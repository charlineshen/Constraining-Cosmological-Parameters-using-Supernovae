{
 "cells": [
  {
   "cell_type": "markdown",
   "metadata": {},
   "source": [
    "# Constrain Cosmological Parameters using Supernovae Data"
   ]
  },
  {
   "cell_type": "markdown",
   "metadata": {},
   "source": [
    "This notebook uses supernavae data, specifically, the data of the distance modulus vs. redshift to fit equations and constrain cosmological constants."
   ]
  },
  {
   "cell_type": "markdown",
   "metadata": {},
   "source": [
    "Here is an overview of our methods:\n",
    "1) Fetch supernova data\n",
    "\n",
    "2) Visualize data and get the data where redshift is small\n",
    "\n",
    "3) Fit data with small redshift to the following equation:\n",
    "\n",
    "$m - M = 43.17 - 5log_{10}(\\frac{H_0}{70}) + 5log_{10}z + 1.086(1-q_0)z$           ------ (Eq. 1)\n",
    "\n",
    "4) Use the fitting results to calculate Hubble Constant $H_0$ and cosmological constant $q_0$\n",
    "\n",
    "To better understand our data, we also try fitting our data backwards in the following steps, i.e., how well different $q_0$ fits our data.\n",
    "\n",
    "5) Visualize the difference between our data fitted model and some hypothesized models.\n",
    "\n",
    "6) Try different cosmological constants on our data and calculate the loss for each."
   ]
  },
  {
   "cell_type": "code",
   "execution_count": 1,
   "metadata": {},
   "outputs": [],
   "source": [
    "import pandas as pd\n",
    "import matplotlib.pyplot as plt\n",
    "import numpy as np\n",
    "from sklearn.linear_model import LinearRegression\n",
    "import statsmodels.api as sm"
   ]
  },
  {
   "cell_type": "markdown",
   "metadata": {},
   "source": [
    "## 1. Load Supernovae Data"
   ]
  },
  {
   "cell_type": "code",
   "execution_count": 137,
   "metadata": {},
   "outputs": [
    {
     "data": {
      "text/html": [
       "<div>\n",
       "<style scoped>\n",
       "    .dataframe tbody tr th:only-of-type {\n",
       "        vertical-align: middle;\n",
       "    }\n",
       "\n",
       "    .dataframe tbody tr th {\n",
       "        vertical-align: top;\n",
       "    }\n",
       "\n",
       "    .dataframe thead th {\n",
       "        text-align: right;\n",
       "    }\n",
       "</style>\n",
       "<table border=\"1\" class=\"dataframe\">\n",
       "  <thead>\n",
       "    <tr style=\"text-align: right;\">\n",
       "      <th></th>\n",
       "      <th>supernova name</th>\n",
       "      <th>redshift</th>\n",
       "      <th>distance modulus</th>\n",
       "      <th>distance modulus error</th>\n",
       "      <th>probability</th>\n",
       "    </tr>\n",
       "  </thead>\n",
       "  <tbody>\n",
       "    <tr>\n",
       "      <th>0</th>\n",
       "      <td>1993ah</td>\n",
       "      <td>0.028488</td>\n",
       "      <td>35.346583</td>\n",
       "      <td>0.223906</td>\n",
       "      <td>0.128419</td>\n",
       "    </tr>\n",
       "    <tr>\n",
       "      <th>1</th>\n",
       "      <td>1993ag</td>\n",
       "      <td>0.050043</td>\n",
       "      <td>36.682368</td>\n",
       "      <td>0.166829</td>\n",
       "      <td>0.128419</td>\n",
       "    </tr>\n",
       "    <tr>\n",
       "      <th>2</th>\n",
       "      <td>1993o</td>\n",
       "      <td>0.052926</td>\n",
       "      <td>36.817691</td>\n",
       "      <td>0.155756</td>\n",
       "      <td>0.128419</td>\n",
       "    </tr>\n",
       "    <tr>\n",
       "      <th>3</th>\n",
       "      <td>1993b</td>\n",
       "      <td>0.070086</td>\n",
       "      <td>37.446737</td>\n",
       "      <td>0.158467</td>\n",
       "      <td>0.128419</td>\n",
       "    </tr>\n",
       "    <tr>\n",
       "      <th>4</th>\n",
       "      <td>1992bs</td>\n",
       "      <td>0.062668</td>\n",
       "      <td>37.483409</td>\n",
       "      <td>0.156099</td>\n",
       "      <td>0.128419</td>\n",
       "    </tr>\n",
       "  </tbody>\n",
       "</table>\n",
       "</div>"
      ],
      "text/plain": [
       "  supernova name  redshift  distance modulus  distance modulus error  \\\n",
       "0         1993ah  0.028488         35.346583                0.223906   \n",
       "1         1993ag  0.050043         36.682368                0.166829   \n",
       "2          1993o  0.052926         36.817691                0.155756   \n",
       "3          1993b  0.070086         37.446737                0.158467   \n",
       "4         1992bs  0.062668         37.483409                0.156099   \n",
       "\n",
       "   probability  \n",
       "0     0.128419  \n",
       "1     0.128419  \n",
       "2     0.128419  \n",
       "3     0.128419  \n",
       "4     0.128419  "
      ]
     },
     "execution_count": 137,
     "metadata": {},
     "output_type": "execute_result"
    }
   ],
   "source": [
    "sn_data = pd.read_csv(\"./data.txt\", sep=\"\\t\", header=0)\n",
    "sn_data.head()"
   ]
  },
  {
   "cell_type": "markdown",
   "metadata": {},
   "source": [
    "## 2. Visualize Data"
   ]
  },
  {
   "cell_type": "markdown",
   "metadata": {},
   "source": [
    "We observe a log relationship between distance modulus and redshift."
   ]
  },
  {
   "cell_type": "code",
   "execution_count": 141,
   "metadata": {},
   "outputs": [
    {
     "data": {
      "image/png": "[encoded data removed]",
      "text/plain": [
       "<Figure size 432x288 with 1 Axes>"
      ]
     },
     "metadata": {
      "needs_background": "light"
     },
     "output_type": "display_data"
    }
   ],
   "source": [
    "plt.errorbar(sn_data[\"redshift\"], sn_data[\"distance modulus\"], yerr = sn_data[\"distance modulus error\"], xerr=None, fmt='o')\n",
    "plt.xlabel('Redshift')\n",
    "plt.ylabel('Distance Modulus')\n",
    "plt.title('Supernova Distance Modulus vs. Redshift')\n",
    "plt.show()"
   ]
  },
  {
   "cell_type": "code",
   "execution_count": 142,
   "metadata": {},
   "outputs": [
    {
     "data": {
      "image/png": "[encoded data removed]",
      "text/plain": [
       "<Figure size 432x288 with 1 Axes>"
      ]
     },
     "metadata": {
      "needs_background": "light"
     },
     "output_type": "display_data"
    }
   ],
   "source": [
    "plt.errorbar(np.log10(sn_data[\"redshift\"]), sn_data[\"distance modulus\"], yerr = sn_data[\"distance modulus error\"], xerr=None, fmt='o')\n",
    "plt.xlabel('log10(Redshift)')\n",
    "plt.ylabel('Distance Modulus')\n",
    "plt.title('Supernova Distance Modulus vs. Log Redshift')\n",
    "plt.show()"
   ]
  },
  {
   "cell_type": "markdown",
   "metadata": {},
   "source": [
    "Now we can extract two dataset: `small_z_data` and `medium_z_data`.\n",
    "\n",
    "`small_z_data` contains the supernova data that has a very small redshift(z<<1), and `medium_z_data` contains the data with relatively bigger redshift but still smaller than 0.2(z<0.2).\n",
    "\n",
    "We will introduce the use of these two datasets later."
   ]
  },
  {
   "cell_type": "code",
   "execution_count": 311,
   "metadata": {},
   "outputs": [
    {
     "name": "stdout",
     "output_type": "stream",
     "text": [
      "Number of points in small_z_data:  146 \n",
      "Number of points in medium_z_data:  230\n"
     ]
    }
   ],
   "source": [
    "small_z_data = sn_data[sn_data[\"redshift\"] < 0.055]\n",
    "medium_z_data = sn_data[sn_data[\"redshift\"] < 0.2]\n",
    "print(\"Number of points in small_z_data: \", len(small_z_data), \"\\nNumber of points in medium_z_data: \", len(medium_z_data))"
   ]
  },
  {
   "cell_type": "code",
   "execution_count": 312,
   "metadata": {},
   "outputs": [
    {
     "data": {
      "image/png": "[encoded data removed]",
      "text/plain": [
       "<Figure size 432x288 with 1 Axes>"
      ]
     },
     "metadata": {
      "needs_background": "light"
     },
     "output_type": "display_data"
    },
    {
     "data": {
      "image/png": "[encoded data removed]",
      "text/plain": [
       "<Figure size 432x288 with 1 Axes>"
      ]
     },
     "metadata": {
      "needs_background": "light"
     },
     "output_type": "display_data"
    }
   ],
   "source": [
    "plt.errorbar(np.log10(small_z_data[\"redshift\"]), small_z_data[\"distance modulus\"], yerr = small_z_data[\"distance modulus error\"], xerr=None, fmt='o')\n",
    "plt.xlabel('log10(Redshift)')\n",
    "plt.ylabel('Distance Modulus')\n",
    "plt.title('Supernova Distance Modulus vs. Redshift (z<<1)')\n",
    "plt.show()\n",
    "\n",
    "plt.errorbar(np.log10(medium_z_data[\"redshift\"]), medium_z_data[\"distance modulus\"], yerr = medium_z_data[\"distance modulus error\"], xerr=None, fmt='o')\n",
    "plt.xlabel('log10(Redshift)')\n",
    "plt.ylabel('Distance Modulus')\n",
    "plt.title('Supernova Distance Modulus vs. Redshift (z<0.2)')\n",
    "plt.show()"
   ]
  },
  {
   "cell_type": "markdown",
   "metadata": {},
   "source": [
    "## 3. Fit Data"
   ]
  },
  {
   "cell_type": "markdown",
   "metadata": {},
   "source": [
    "Equation 1: $m - M = 43.17 - 5log_{10}(\\frac{H_0}{70}) + 5log_{10}z + 1.086(1-q_0)z$\n",
    "\n",
    "Observe that when z<<1, we can neglect the last term $1.086(1-q_0)z$. The distance modulus and $log_{10}z$ are linear. So we can use the data when z<<1 to fit a linear regression model. The fitted intercept can be used to calculate Hubble constant $H_0$.\n",
    "\n",
    "To take into account the error bars, we use weighted least squares where the weights are calculated from distance modulus error."
   ]
  },
  {
   "cell_type": "code",
   "execution_count": 313,
   "metadata": {},
   "outputs": [
    {
     "data": {
      "text/plain": [
       "array([43.26060668,  5.03219119])"
      ]
     },
     "execution_count": 313,
     "metadata": {},
     "output_type": "execute_result"
    }
   ],
   "source": [
    "X = np.array(np.log10(small_z_data[\"redshift\"])).reshape(-1, 1)\n",
    "X = sm.add_constant(X) # add column of 1 for intercept\n",
    "y = np.array(small_z_data[\"distance modulus\"])\n",
    "\n",
    "# Weights for weighted least squares\n",
    "weights = 1 / np.array(small_z_data[\"distance modulus error\"]) ** 2\n",
    "\n",
    "H0_model = sm.WLS(y, X, weights=weights).fit()\n",
    "H0_model.params"
   ]
  },
  {
   "cell_type": "code",
   "execution_count": 314,
   "metadata": {},
   "outputs": [
    {
     "data": {
      "text/html": [
       "<table class=\"simpletable\">\n",
       "<caption>WLS Regression Results</caption>\n",
       "<tr>\n",
       "  <th>Dep. Variable:</th>            <td>y</td>        <th>  R-squared:         </th> <td>   0.951</td>\n",
       "</tr>\n",
       "<tr>\n",
       "  <th>Model:</th>                   <td>WLS</td>       <th>  Adj. R-squared:    </th> <td>   0.951</td>\n",
       "</tr>\n",
       "<tr>\n",
       "  <th>Method:</th>             <td>Least Squares</td>  <th>  F-statistic:       </th> <td>   2806.</td>\n",
       "</tr>\n",
       "<tr>\n",
       "  <th>Date:</th>             <td>Fri, 05 May 2023</td> <th>  Prob (F-statistic):</th> <td>2.55e-96</td>\n",
       "</tr>\n",
       "<tr>\n",
       "  <th>Time:</th>                 <td>00:19:36</td>     <th>  Log-Likelihood:    </th> <td>  43.463</td>\n",
       "</tr>\n",
       "<tr>\n",
       "  <th>No. Observations:</th>      <td>   146</td>      <th>  AIC:               </th> <td>  -82.93</td>\n",
       "</tr>\n",
       "<tr>\n",
       "  <th>Df Residuals:</th>          <td>   144</td>      <th>  BIC:               </th> <td>  -76.96</td>\n",
       "</tr>\n",
       "<tr>\n",
       "  <th>Df Model:</th>              <td>     1</td>      <th>                     </th>     <td> </td>   \n",
       "</tr>\n",
       "<tr>\n",
       "  <th>Covariance Type:</th>      <td>nonrobust</td>    <th>                     </th>     <td> </td>   \n",
       "</tr>\n",
       "</table>\n",
       "<table class=\"simpletable\">\n",
       "<tr>\n",
       "    <td></td>       <th>coef</th>     <th>std err</th>      <th>t</th>      <th>P>|t|</th>  <th>[0.025</th>    <th>0.975]</th>  \n",
       "</tr>\n",
       "<tr>\n",
       "  <th>const</th> <td>   43.2606</td> <td>    0.147</td> <td>  293.727</td> <td> 0.000</td> <td>   42.969</td> <td>   43.552</td>\n",
       "</tr>\n",
       "<tr>\n",
       "  <th>x1</th>    <td>    5.0322</td> <td>    0.095</td> <td>   52.973</td> <td> 0.000</td> <td>    4.844</td> <td>    5.220</td>\n",
       "</tr>\n",
       "</table>\n",
       "<table class=\"simpletable\">\n",
       "<tr>\n",
       "  <th>Omnibus:</th>       <td> 1.446</td> <th>  Durbin-Watson:     </th> <td>   1.654</td>\n",
       "</tr>\n",
       "<tr>\n",
       "  <th>Prob(Omnibus):</th> <td> 0.485</td> <th>  Jarque-Bera (JB):  </th> <td>   1.013</td>\n",
       "</tr>\n",
       "<tr>\n",
       "  <th>Skew:</th>          <td> 0.126</td> <th>  Prob(JB):          </th> <td>   0.603</td>\n",
       "</tr>\n",
       "<tr>\n",
       "  <th>Kurtosis:</th>      <td> 3.320</td> <th>  Cond. No.          </th> <td>    22.7</td>\n",
       "</tr>\n",
       "</table><br/><br/>Notes:<br/>[1] Standard Errors assume that the covariance matrix of the errors is correctly specified."
      ],
      "text/plain": [
       "<class 'statsmodels.iolib.summary.Summary'>\n",
       "\"\"\"\n",
       "                            WLS Regression Results                            \n",
       "==============================================================================\n",
       "Dep. Variable:                      y   R-squared:                       0.951\n",
       "Model:                            WLS   Adj. R-squared:                  0.951\n",
       "Method:                 Least Squares   F-statistic:                     2806.\n",
       "Date:                Fri, 05 May 2023   Prob (F-statistic):           2.55e-96\n",
       "Time:                        00:19:36   Log-Likelihood:                 43.463\n",
       "No. Observations:                 146   AIC:                            -82.93\n",
       "Df Residuals:                     144   BIC:                            -76.96\n",
       "Df Model:                           1                                         \n",
       "Covariance Type:            nonrobust                                         \n",
       "==============================================================================\n",
       "                 coef    std err          t      P>|t|      [0.025      0.975]\n",
       "------------------------------------------------------------------------------\n",
       "const         43.2606      0.147    293.727      0.000      42.969      43.552\n",
       "x1             5.0322      0.095     52.973      0.000       4.844       5.220\n",
       "==============================================================================\n",
       "Omnibus:                        1.446   Durbin-Watson:                   1.654\n",
       "Prob(Omnibus):                  0.485   Jarque-Bera (JB):                1.013\n",
       "Skew:                           0.126   Prob(JB):                        0.603\n",
       "Kurtosis:                       3.320   Cond. No.                         22.7\n",
       "==============================================================================\n",
       "\n",
       "Notes:\n",
       "[1] Standard Errors assume that the covariance matrix of the errors is correctly specified.\n",
       "\"\"\""
      ]
     },
     "execution_count": 314,
     "metadata": {},
     "output_type": "execute_result"
    }
   ],
   "source": [
    "H0_model.summary()"
   ]
  },
  {
   "cell_type": "code",
   "execution_count": 330,
   "metadata": {},
   "outputs": [
    {
     "name": "stdout",
     "output_type": "stream",
     "text": [
      "H0: 67.13928363809563\n"
     ]
    }
   ],
   "source": [
    "H0 = 70 * 10**((H0_model.params[0] - 43.17) / (-5.0))\n",
    "print(\"H0:\", H0)"
   ]
  },
  {
   "cell_type": "markdown",
   "metadata": {},
   "source": [
    "Our linear model fits the data well with $R^2$ close to 1. We calculate $H_0$ around 67.14, which is also consistent with other studies."
   ]
  },
  {
   "cell_type": "markdown",
   "metadata": {},
   "source": [
    "Now, we could use slightly bigger z to fit the last term $1.086(1-q_0)z$ to calculate $q_0$."
   ]
  },
  {
   "cell_type": "code",
   "execution_count": 327,
   "metadata": {},
   "outputs": [
    {
     "data": {
      "text/plain": [
       "array([-0.09279572,  1.43659398])"
      ]
     },
     "execution_count": 327,
     "metadata": {},
     "output_type": "execute_result"
    }
   ],
   "source": [
    "X = np.array((medium_z_data[\"redshift\"])).reshape(-1, 1)\n",
    "X = sm.add_constant(X)\n",
    "y = np.array(medium_z_data[\"distance modulus\"]) - 5*np.array(np.log10(medium_z_data[\"redshift\"])) - H0_model.params[0]\n",
    "\n",
    "# Weights for weighted least squares\n",
    "weights = 1 / np.array(medium_z_data[\"distance modulus error\"]) ** 2\n",
    "\n",
    "q0_model = sm.WLS(y, X, weights=weights).fit()\n",
    "q0_model.params"
   ]
  },
  {
   "cell_type": "code",
   "execution_count": 331,
   "metadata": {},
   "outputs": [
    {
     "name": "stdout",
     "output_type": "stream",
     "text": [
      "q0: -0.3228305557712643\n"
     ]
    }
   ],
   "source": [
    "q0 = 1 - q0_model.params[1]/1.086\n",
    "print(\"q0:\", q0)"
   ]
  },
  {
   "cell_type": "markdown",
   "metadata": {},
   "source": [
    "We get $q_0 < 0$, indicating that we are in an accelarating outward universe."
   ]
  },
  {
   "cell_type": "markdown",
   "metadata": {},
   "source": [
    "We could also directly fit data with small redshift to the whole equation, by indicating the model as $m-M = b + a_0log_{10}z + a_1z$."
   ]
  },
  {
   "cell_type": "code",
   "execution_count": 333,
   "metadata": {},
   "outputs": [
    {
     "data": {
      "text/plain": [
       "array([43.1024494 ,  4.96133736,  1.66229566])"
      ]
     },
     "execution_count": 333,
     "metadata": {},
     "output_type": "execute_result"
    }
   ],
   "source": [
    "X0 = np.array(np.log10(medium_z_data[\"redshift\"])).reshape(-1, 1)\n",
    "X1 = np.array((medium_z_data[\"redshift\"])).reshape(-1, 1)\n",
    "X = np.append(X0, X1, axis = 1)\n",
    "\n",
    "X = sm.add_constant(X)\n",
    "y = np.array(medium_z_data[\"distance modulus\"])\n",
    "\n",
    "# Weights for weighted least squares\n",
    "weights = 1 / np.array(medium_z_data[\"distance modulus error\"]) ** 2\n",
    "\n",
    "model = sm.WLS(y, X, weights=weights).fit()\n",
    "model.params"
   ]
  },
  {
   "cell_type": "code",
   "execution_count": 336,
   "metadata": {},
   "outputs": [
    {
     "name": "stdout",
     "output_type": "stream",
     "text": [
      "H0: 72.21179809082025\n",
      "q0: -0.530658990003376\n"
     ]
    }
   ],
   "source": [
    "H0 = 70 * 10**((model.params[0] - 43.17) / (-5.0))\n",
    "print(\"H0:\", H0)\n",
    "q0 = 1 - model.params[2]/1.086\n",
    "print(\"q0:\", q0)"
   ]
  },
  {
   "cell_type": "markdown",
   "metadata": {},
   "source": [
    "Similarly, we find an accelarating universe."
   ]
  },
  {
   "cell_type": "code",
   "execution_count": null,
   "metadata": {},
   "outputs": [],
   "source": []
  },
  {
   "cell_type": "code",
   "execution_count": null,
   "metadata": {},
   "outputs": [],
   "source": []
  },
  {
   "cell_type": "code",
   "execution_count": null,
   "metadata": {},
   "outputs": [],
   "source": []
  },
  {
   "cell_type": "code",
   "execution_count": null,
   "metadata": {},
   "outputs": [],
   "source": []
  },
  {
   "cell_type": "code",
   "execution_count": null,
   "metadata": {},
   "outputs": [],
   "source": []
  },
  {
   "cell_type": "code",
   "execution_count": null,
   "metadata": {},
   "outputs": [],
   "source": []
  },
  {
   "cell_type": "code",
   "execution_count": null,
   "metadata": {},
   "outputs": [],
   "source": []
  },
  {
   "cell_type": "code",
   "execution_count": null,
   "metadata": {},
   "outputs": [],
   "source": []
  },
  {
   "cell_type": "code",
   "execution_count": null,
   "metadata": {},
   "outputs": [],
   "source": []
  },
  {
   "cell_type": "code",
   "execution_count": null,
   "metadata": {},
   "outputs": [],
   "source": []
  },
  {
   "cell_type": "code",
   "execution_count": null,
   "metadata": {},
   "outputs": [],
   "source": []
  }
 ],
 "metadata": {
  "kernelspec": {
   "display_name": "Python 3 (ipykernel)",
   "language": "python",
   "name": "python3"
  },
  "language_info": {
   "codemirror_mode": {
    "name": "ipython",
    "version": 3
   },
   "file_extension": ".py",
   "mimetype": "text/x-python",
   "name": "python",
   "nbconvert_exporter": "python",
   "pygments_lexer": "ipython3",
   "version": "3.9.7"
  }
 },
 "nbformat": 4,
 "nbformat_minor": 2
}
